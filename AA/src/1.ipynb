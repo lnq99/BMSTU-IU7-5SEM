{
 "cells": [
  {
   "cell_type": "markdown",
   "metadata": {},
   "source": [
    "# Levenshtein distance. Damerau–Levenshtein distance"
   ]
  },
  {
   "cell_type": "code",
   "execution_count": 1,
   "metadata": {},
   "outputs": [],
   "source": [
    "def lev_recursion(a, b, i, j):\n",
    "    if min(i, j) == 0:\n",
    "        return max(i, j)\n",
    "\n",
    "    i1 = i - 1\n",
    "    j1 = j - 1\n",
    "    return min(lev_recursion(a, b, i1, j) + 1,\n",
    "              lev_recursion(a, b, i, j1) + 1,\n",
    "              lev_recursion(a, b, i1, j1) + (0 if a[i1] == b[j1] else 1))"
   ]
  },
  {
   "cell_type": "code",
   "execution_count": 2,
   "metadata": {},
   "outputs": [],
   "source": [
    "def lev_table(m, a, b, i, j):\n",
    "    for x in range(1, i+1):\n",
    "        for y in range(1, j+1):\n",
    "            x1 = x - 1\n",
    "            y1 = y - 1\n",
    "            m[x][y] = min(m[x1][y] + 1,\n",
    "                          m[x][y1] + 1,\n",
    "                          m[x1][y1] + (0 if a[x1] == b[y1] else 1))\n",
    "\n",
    "    return m[i][j]"
   ]
  },
  {
   "cell_type": "code",
   "execution_count": 3,
   "metadata": {},
   "outputs": [],
   "source": [
    "def lev_memoization(m, a, b, i, j):\n",
    "    if m[i][j] != -1:\n",
    "        return m[i][j]\n",
    "\n",
    "    if min(i, j) == 0:\n",
    "        return max(i, j)\n",
    "\n",
    "    i1 = i - 1\n",
    "    j1 = j - 1\n",
    "    r = min(lev_memoization(m, a, b, i1, j) + 1,\n",
    "            lev_memoization(m, a, b, i, j1) + 1,\n",
    "            lev_memoization(m, a, b, i1, j1) + (0 if a[i1] == b[j1] else 1))\n",
    "\n",
    "    m[i][j] = r\n",
    "    return r"
   ]
  },
  {
   "cell_type": "code",
   "execution_count": 4,
   "metadata": {},
   "outputs": [],
   "source": [
    "def lev_damerau(m, a, b, i, j):\n",
    "    for x in range(1, i+1):\n",
    "        for y in range(1, j+1):\n",
    "            x1 = x - 1\n",
    "            y1 = y - 1\n",
    "            m[x][y] = min(m[x1][y] + 1,\n",
    "                          m[x][y1] + 1,\n",
    "                          m[x1][y1] + (0 if a[x1] == b[y1] else 1))\n",
    "\n",
    "            if i > 1 and j > 1 and a[x1]==b[y-2] and a[x-2]==b[y1]:\n",
    "                m[x][y] = min(m[x][y], m[x-2][y-2] + 1)\n",
    "    return m[i][j]"
   ]
  },
  {
   "cell_type": "code",
   "execution_count": 5,
   "metadata": {},
   "outputs": [],
   "source": [
    "class Lev:\n",
    "    def __init__(self):\n",
    "        self.m = []\n",
    "\n",
    "    def recursion(self, a, b):\n",
    "        return lev_recursion(a, b, len(a), len(b))\n",
    "\n",
    "    def table(self, a, b):\n",
    "        i = len(a)\n",
    "        j = len(b)\n",
    "        self.m = [[x + y for x in range(j + 1)] for y in range(i + 1)]\n",
    "        return lev_table(self.m, a, b, i, j)\n",
    "    \n",
    "    def memoization(self, a, b):\n",
    "        i = len(a)\n",
    "        j = len(b)\n",
    "        self.m = [[-1 for _ in range(j + 1)] for _ in range(i + 1)]\n",
    "        return lev_memoization(self.m, a, b, i, j)\n",
    "    \n",
    "    def damerau(self, a, b):\n",
    "        i = len(a)\n",
    "        j = len(b)\n",
    "        self.m = [[x + y for x in range(j + 1)] for y in range(i + 1)]\n",
    "        return lev_damerau(self.m, a, b, i, j)\n",
    "\n",
    "\n",
    "    def debug(self, a, b):\n",
    "        print(\"{:>8}\\t{:>8}\".format(a, b), end=\"\\t\")\n",
    "        print('{:2d} {:2d} {:2d} {:2d}'.\n",
    "              format(self.recursion(a, b), self.table(a, b), self.memoization(a, b), self.damerau(a, b)))\n",
    "\n",
    "    def print_table(self):\n",
    "        if len(self.m):\n",
    "            for x in range(len(self.m)):\n",
    "                for y in range(len(self.m[0])):\n",
    "                    print('{:3d} '.format(self.m[x][y]), end='')\n",
    "                print()\n",
    "        print()\n",
    "\n",
    "L = Lev()"
   ]
  },
  {
   "cell_type": "markdown",
   "metadata": {},
   "source": [
    "# Utilities"
   ]
  },
  {
   "cell_type": "code",
   "execution_count": 6,
   "metadata": {},
   "outputs": [],
   "source": [
    "import string\n",
    "import random\n",
    "\n",
    "def rand_string(l = 8):\n",
    "    return ''.join(random.choice(string.ascii_lowercase) for i in range(l))"
   ]
  },
  {
   "cell_type": "code",
   "execution_count": 7,
   "metadata": {},
   "outputs": [],
   "source": [
    "from faker import Faker\n",
    "def print_csv_test(n=5, allow_equal=True):\n",
    "    fake = Faker()\n",
    "    for i in range(n):\n",
    "        a = fake.word()\n",
    "        b = fake.word()\n",
    "        r1 = L.table(a,b)\n",
    "        r2 = L.damerau(a,b)\n",
    "        if (allow_equal or r1 != r2):\n",
    "            print('{},{},{},{}'.format(a, b, r1, r2))\n",
    "# print_csv_test(1000, False)\n",
    "# print_csv_test(5)"
   ]
  },
  {
   "cell_type": "markdown",
   "metadata": {},
   "source": [
    "# Debug"
   ]
  },
  {
   "cell_type": "code",
   "execution_count": 8,
   "metadata": {},
   "outputs": [
    {
     "name": "stdout",
     "output_type": "stream",
     "text": [
      "     abc\t      bc\t 1  1  1  1\n",
      "     abc\t     abc\t 0  0  0  0\n",
      "    telo\t   ctolb\t 3  3  3  3\n",
      "  python\t  pyhton\t 2  2  2  1\n",
      "  kitten\t sitting\t 3  3  3  3\n",
      "\n",
      "\n",
      "'python', 'pyhton'\n",
      "\n",
      "  0   1   2   3   4   5   6 \n",
      "  1   0   1   2   3   4   5 \n",
      "  2   1   0   1   2   3   4 \n",
      "  3   2   1   1   1   2   3 \n",
      "  4   3   2   1   2   2   3 \n",
      "  5   4   3   2   2   2   3 \n",
      "  6   5   4   3   3   3   2 \n",
      "\n",
      " -1  -1  -1  -1  -1  -1  -1 \n",
      " -1   0   1   2   3   4   5 \n",
      " -1   1   0   1   2   3   4 \n",
      " -1   2   1   1   1   2   3 \n",
      " -1   3   2   1   2   2   3 \n",
      " -1   4   3   2   2   2   3 \n",
      " -1   5   4   3   3   3   2 \n",
      "\n",
      "  0   1   2   3   4   5   6 \n",
      "  1   0   1   2   3   4   5 \n",
      "  2   1   0   1   2   3   4 \n",
      "  3   2   1   1   1   2   3 \n",
      "  4   3   2   1   1   2   3 \n",
      "  5   4   3   2   2   1   2 \n",
      "  6   5   4   3   3   2   1 \n",
      "\n"
     ]
    }
   ],
   "source": [
    "l = [\n",
    "    ('abc', 'bc'),\n",
    "    ('abc', 'abc'),\n",
    "    ('telo', 'ctolb'),\n",
    "    ('python', 'pyhton'),\n",
    "    ('kitten', 'sitting'),\n",
    "]\n",
    "\n",
    "for a, b in l:\n",
    "    L.debug(a, b)\n",
    "\n",
    "print()\n",
    "\n",
    "print(\"\\n'python', 'pyhton'\\n\")\n",
    "\n",
    "pair = l[3]\n",
    "\n",
    "L.table(*pair)\n",
    "L.print_table()\n",
    "L.memoization(*pair)\n",
    "L.print_table()\n",
    "L.damerau(*pair)\n",
    "L.print_table()"
   ]
  },
  {
   "cell_type": "markdown",
   "metadata": {},
   "source": [
    "# Unit Test"
   ]
  },
  {
   "cell_type": "code",
   "execution_count": 9,
   "metadata": {},
   "outputs": [
    {
     "name": "stderr",
     "output_type": "stream",
     "text": [
      "test_damerau (__main__.TestLevenshtein) ... ERROR\n",
      "test_memoization (__main__.TestLevenshtein) ... ERROR\n",
      "test_recursion (__main__.TestLevenshtein) ... ERROR\n",
      "test_table (__main__.TestLevenshtein) ... ERROR\n",
      "\n",
      "======================================================================\n",
      "ERROR: test_damerau (__main__.TestLevenshtein)\n",
      "----------------------------------------------------------------------\n",
      "Traceback (most recent call last):\n",
      "  File \"<ipython-input-9-345cf9054eec>\", line 20, in test_damerau\n",
      "    self._test(self.L.damerau, 1)\n",
      "  File \"<ipython-input-9-345cf9054eec>\", line 23, in _test\n",
      "    with open(self.file, newline='') as csvfile:\n",
      "FileNotFoundError: [Errno 2] No such file or directory: '../report/1/inc/func_test.csv'\n",
      "\n",
      "======================================================================\n",
      "ERROR: test_memoization (__main__.TestLevenshtein)\n",
      "----------------------------------------------------------------------\n",
      "Traceback (most recent call last):\n",
      "  File \"<ipython-input-9-345cf9054eec>\", line 17, in test_memoization\n",
      "    self._test(self.L.memoization)\n",
      "  File \"<ipython-input-9-345cf9054eec>\", line 23, in _test\n",
      "    with open(self.file, newline='') as csvfile:\n",
      "FileNotFoundError: [Errno 2] No such file or directory: '../report/1/inc/func_test.csv'\n",
      "\n",
      "======================================================================\n",
      "ERROR: test_recursion (__main__.TestLevenshtein)\n",
      "----------------------------------------------------------------------\n",
      "Traceback (most recent call last):\n",
      "  File \"<ipython-input-9-345cf9054eec>\", line 11, in test_recursion\n",
      "    self._test(self.L.recursion)\n",
      "  File \"<ipython-input-9-345cf9054eec>\", line 23, in _test\n",
      "    with open(self.file, newline='') as csvfile:\n",
      "FileNotFoundError: [Errno 2] No such file or directory: '../report/1/inc/func_test.csv'\n",
      "\n",
      "======================================================================\n",
      "ERROR: test_table (__main__.TestLevenshtein)\n",
      "----------------------------------------------------------------------\n",
      "Traceback (most recent call last):\n",
      "  File \"<ipython-input-9-345cf9054eec>\", line 14, in test_table\n",
      "    self._test(self.L.table)\n",
      "  File \"<ipython-input-9-345cf9054eec>\", line 23, in _test\n",
      "    with open(self.file, newline='') as csvfile:\n",
      "FileNotFoundError: [Errno 2] No such file or directory: '../report/1/inc/func_test.csv'\n",
      "\n",
      "----------------------------------------------------------------------\n",
      "Ran 4 tests in 0.005s\n",
      "\n",
      "FAILED (errors=4)\n"
     ]
    }
   ],
   "source": [
    "import unittest\n",
    "import csv\n",
    "\n",
    "class TestLevenshtein(unittest.TestCase):\n",
    "    def __init__(self, *args, **kwargs):\n",
    "        super().__init__(*args, **kwargs)\n",
    "        self.file = '../report/1/inc/func_test.csv'\n",
    "        self.L = Lev()\n",
    "\n",
    "    def test_recursion(self):\n",
    "        self._test(self.L.recursion)\n",
    "\n",
    "    def test_table(self):\n",
    "        self._test(self.L.table)\n",
    "\n",
    "    def test_memoization(self):\n",
    "        self._test(self.L.memoization)\n",
    "        \n",
    "    def test_damerau(self):\n",
    "        self._test(self.L.damerau, 1)\n",
    "\n",
    "    def _test(self, f, is_damerau = 0):\n",
    "        with open(self.file, newline='') as csvfile:\n",
    "            test = csv.reader(csvfile, delimiter=',', quotechar='|')\n",
    "            for a, b, r1, r2 in test:\n",
    "                self.assertEqual(f(a, b), [int(r1), int(r2)][is_damerau])\n",
    "\n",
    "if __name__ == '__main__':\n",
    "    unittest.main(argv=['1st-arg-ignored', '-v'], exit=False)"
   ]
  },
  {
   "cell_type": "markdown",
   "metadata": {},
   "source": [
    "# Benchmark"
   ]
  },
  {
   "cell_type": "code",
   "execution_count": 10,
   "metadata": {},
   "outputs": [],
   "source": [
    "import timeit\n",
    "len_list1 = (1, 2, 3, 4, 5, 6, 7, 8, 9, 10)\n",
    "len_list2 = (10, 50, 100, 200, 300)"
   ]
  },
  {
   "cell_type": "code",
   "execution_count": 11,
   "metadata": {},
   "outputs": [
    {
     "name": "stdout",
     "output_type": "stream",
     "text": [
      "95.7 µs ± 6.48 µs per loop (mean ± std. dev. of 7 runs, 10000 loops each)\n"
     ]
    }
   ],
   "source": [
    "%%timeit\n",
    "L.table(*pair)\n",
    "L.memoization(*pair)\n",
    "L.damerau(*pair)"
   ]
  },
  {
   "cell_type": "code",
   "execution_count": 12,
   "metadata": {},
   "outputs": [],
   "source": [
    "time_mat1 = [[0 for _ in range(len(len_list1))] for _ in range(3)]\n",
    "time_mat2 = [[0 for _ in range(len(len_list2))] for _ in range(3)]\n",
    "\n",
    "loop_one = 2\n",
    "\n",
    "for i in range(len(len_list1)):\n",
    "    l = len_list1[i]\n",
    "    for _ in range(loop_one):\n",
    "        a = rand_string(l)\n",
    "        b = rand_string(l)\n",
    "\n",
    "        time_mat1[0][i] += sum(timeit.repeat(lambda:L.recursion(a, b), repeat=2, number=2))\n",
    "        time_mat1[1][i] += sum(timeit.repeat(lambda:L.table(a, b), repeat=2, number=2))\n",
    "        time_mat1[2][i] += sum(timeit.repeat(lambda:L.memoization(a, b), repeat=2, number=2))\n",
    "\n",
    "    for j in range(3):\n",
    "        time_mat1[j][i] /= 2 * loop_one\n",
    "        \n",
    "repeat = 2\n",
    "number = 10\n",
    "count_benchmark = loop_one * repeat\n",
    "\n",
    "for i in range(len(len_list2)):\n",
    "    l = len_list2[i]\n",
    "    for _ in range(loop_one):\n",
    "        a = rand_string(l)\n",
    "        b = rand_string(l)\n",
    "\n",
    "        time_mat2[0][i] += sum(timeit.repeat(lambda:L.table(a, b), repeat=repeat, number=number))\n",
    "        time_mat2[1][i] += sum(timeit.repeat(lambda:L.memoization(a, b), repeat=repeat, number=number))\n",
    "        time_mat2[2][i] += sum(timeit.repeat(lambda:L.damerau(a, b), repeat=repeat, number=number))\n",
    "\n",
    "    for j in range(3):\n",
    "        time_mat2[j][i] /= count_benchmark"
   ]
  },
  {
   "cell_type": "code",
   "execution_count": 13,
   "metadata": {},
   "outputs": [
    {
     "name": "stdout",
     "output_type": "stream",
     "text": [
      "CPU times: user 162 ms, sys: 3 µs, total: 162 ms\n",
      "Wall time: 167 ms\n"
     ]
    },
    {
     "data": {
      "text/plain": [
       "8"
      ]
     },
     "execution_count": 13,
     "metadata": {},
     "output_type": "execute_result"
    }
   ],
   "source": [
    "%%time\n",
    "L.recursion(rand_string(8), rand_string(8))"
   ]
  },
  {
   "cell_type": "code",
   "execution_count": 14,
   "metadata": {},
   "outputs": [],
   "source": [
    "l = 300\n",
    "a = rand_string(l)\n",
    "b = rand_string(l)"
   ]
  },
  {
   "cell_type": "code",
   "execution_count": 15,
   "metadata": {},
   "outputs": [
    {
     "name": "stdout",
     "output_type": "stream",
     "text": [
      "CPU times: user 50 ms, sys: 0 ns, total: 50 ms\n",
      "Wall time: 52.5 ms\n"
     ]
    },
    {
     "data": {
      "text/plain": [
       "267"
      ]
     },
     "execution_count": 15,
     "metadata": {},
     "output_type": "execute_result"
    }
   ],
   "source": [
    "%%time\n",
    "L.table(a, b)"
   ]
  },
  {
   "cell_type": "code",
   "execution_count": 16,
   "metadata": {},
   "outputs": [
    {
     "name": "stdout",
     "output_type": "stream",
     "text": [
      "CPU times: user 93.3 ms, sys: 0 ns, total: 93.3 ms\n",
      "Wall time: 94.2 ms\n"
     ]
    },
    {
     "data": {
      "text/plain": [
       "267"
      ]
     },
     "execution_count": 16,
     "metadata": {},
     "output_type": "execute_result"
    }
   ],
   "source": [
    "%%time\n",
    "L.memoization(a, b)"
   ]
  },
  {
   "cell_type": "code",
   "execution_count": 17,
   "metadata": {},
   "outputs": [
    {
     "name": "stdout",
     "output_type": "stream",
     "text": [
      "CPU times: user 60.5 ms, sys: 0 ns, total: 60.5 ms\n",
      "Wall time: 61.4 ms\n"
     ]
    },
    {
     "data": {
      "text/plain": [
       "267"
      ]
     },
     "execution_count": 17,
     "metadata": {},
     "output_type": "execute_result"
    }
   ],
   "source": [
    "%%time\n",
    "L.damerau(a, b)"
   ]
  },
  {
   "cell_type": "markdown",
   "metadata": {},
   "source": [
    "# Graph"
   ]
  },
  {
   "cell_type": "code",
   "execution_count": 18,
   "metadata": {},
   "outputs": [],
   "source": [
    "import matplotlib.pyplot as plt\n",
    "import numpy as np\n",
    "from scipy.interpolate import interp1d\n",
    "plt.rcParams['figure.figsize']=15,10"
   ]
  },
  {
   "cell_type": "code",
   "execution_count": 19,
   "metadata": {},
   "outputs": [],
   "source": [
    "x1 = np.linspace(len_list1[0], len_list1[-1], num=10, endpoint=True)\n",
    "x2 = np.linspace(len_list2[0], len_list2[-1], num=20, endpoint=True)"
   ]
  },
  {
   "cell_type": "code",
   "execution_count": 20,
   "metadata": {},
   "outputs": [
    {
     "data": {
      "text/plain": [
       "<matplotlib.legend.Legend at 0x7fe36068c590>"
      ]
     },
     "execution_count": 20,
     "metadata": {},
     "output_type": "execute_result"
    },
    {
     "data": {
      "image/png": "[encoded data removed]",
      "text/plain": [
       "<Figure size 1080x720 with 1 Axes>"
      ]
     },
     "metadata": {
      "needs_background": "light"
     },
     "output_type": "display_data"
    }
   ],
   "source": [
    "plt.plot(len_list1, time_mat1[0], 'bo')\n",
    "plt.plot(x1, interp1d(len_list1, time_mat1[0], kind='linear')(x1), '-', label='Левенштейна рекурсия')\n",
    "\n",
    "plt.plot(len_list1, time_mat1[1], 'yo')\n",
    "plt.plot(x1, interp1d(len_list1, time_mat1[1], kind='linear')(x1), '-', label='Левенштейна с заполнением матрицы')\n",
    "\n",
    "plt.plot(len_list1, time_mat1[2], 'go')\n",
    "plt.plot(x1, interp1d(len_list1, time_mat1[2], kind='linear')(x1), '-', label='Левенштейна рекурсия с меморизации')\n",
    "\n",
    "plt.legend()"
   ]
  },
  {
   "cell_type": "code",
   "execution_count": 21,
   "metadata": {},
   "outputs": [
    {
     "data": {
      "text/plain": [
       "<matplotlib.legend.Legend at 0x7fe36066a1d0>"
      ]
     },
     "execution_count": 21,
     "metadata": {},
     "output_type": "execute_result"
    },
    {
     "data": {
      "image/png": "[encoded data removed]",
      "text/plain": [
       "<Figure size 1080x720 with 1 Axes>"
      ]
     },
     "metadata": {
      "needs_background": "light"
     },
     "output_type": "display_data"
    }
   ],
   "source": [
    "plt.plot(len_list2, time_mat2[0], 'bo')\n",
    "plt.plot(x2, interp1d(len_list2, time_mat2[0], kind='cubic')(x2), '-', label='Левенштейна с заполнением матрицы')\n",
    "\n",
    "plt.plot(len_list2, time_mat2[1], 'yo')\n",
    "plt.plot(x2, interp1d(len_list2, time_mat2[1], kind='cubic')(x2), '-', label='Левенштейна рекурсия с меморизации')\n",
    "\n",
    "plt.plot(len_list2, time_mat2[2], 'go')\n",
    "plt.plot(x2, interp1d(len_list2, time_mat2[2], kind='cubic')(x2), '-', label='Дамерау-Левенштейна с заполнением матрицы')\n",
    "\n",
    "plt.legend()"
   ]
  },
  {
   "cell_type": "code",
   "execution_count": 22,
   "metadata": {},
   "outputs": [
    {
     "name": "stdout",
     "output_type": "stream",
     "text": [
      "Usage:\n",
      "    L.recursion(a, b)\n",
      "    L.table(a, b)\n",
      "    L.memoization(a, b)\n",
      "    L.damerau(a, b)\n",
      "    L.debug(a, b)        -- compare different algorithms\n",
      "    L.print_table()      -- print the last used table\n",
      "    \n",
      "    add '%%time' to measure running time\n",
      "\n"
     ]
    }
   ],
   "source": [
    "print(\"\"\"Usage:\n",
    "    L.recursion(a, b)\n",
    "    L.table(a, b)\n",
    "    L.memoization(a, b)\n",
    "    L.damerau(a, b)\n",
    "    L.debug(a, b)        -- compare different algorithms\n",
    "    L.print_table()      -- print the last used table\n",
    "    \n",
    "    add '%%time' to measure running time\n",
    "\"\"\")"
   ]
  },
  {
   "cell_type": "markdown",
   "metadata": {},
   "source": [
    "# Защита"
   ]
  },
  {
   "cell_type": "code",
   "execution_count": 23,
   "metadata": {},
   "outputs": [
    {
     "name": "stdout",
     "output_type": "stream",
     "text": [
      "  0   1   2   3   4 \n",
      "  1   1   1   2   3 \n",
      "  2   1   2   2   3 \n",
      "  3   2   2   3   2 \n",
      "  4   3   3   2   3 \n",
      "\n",
      "  0   1   2   3   4 \n",
      "  1   1   1   2   3 \n",
      "  2   1   1   2   3 \n",
      "  3   2   2   2   2 \n",
      "  4   3   3   2   2 \n",
      "\n"
     ]
    }
   ],
   "source": [
    "# L.debug('qwer','wqre')\n",
    "L.table('qwer','wqre')\n",
    "L.print_table()\n",
    "L.damerau('qwer','wqre')\n",
    "L.print_table()"
   ]
  },
  {
   "cell_type": "markdown",
   "metadata": {},
   "source": [
    "qwer wqre = 3  \n",
    "qwer wqr = 2  \n",
    "qwe  wq = 2  \n",
    "qw   w = 1  \n",
    "q    = 0  \n",
    "\n",
    "## qwer -> wer -> wqr -> wqre"
   ]
  },
  {
   "cell_type": "code",
   "execution_count": 24,
   "metadata": {},
   "outputs": [
    {
     "name": "stdout",
     "output_type": "stream",
     "text": [
      "  0   1   2   3   4   5   6 \n",
      "  1   1   2   3   4   5   6 \n",
      "  2   2   1   2   3   4   5 \n",
      "  3   3   2   1   2   3   4 \n",
      "  4   4   3   2   2   3   4 \n",
      "  5   5   4   3   3   3   4 \n",
      "  6   6   5   4   4   3   4 \n",
      "  7   7   6   5   5   4   3 \n",
      "\n"
     ]
    }
   ],
   "source": [
    "L.table('kitchen','sitten')\n",
    "L.print_table()"
   ]
  },
  {
   "cell_type": "code",
   "execution_count": 25,
   "metadata": {},
   "outputs": [
    {
     "data": {
      "text/plain": [
       "[[5.927249731030315e-06,\n",
       "  1.725600304780528e-05,\n",
       "  7.663249925826676e-05,\n",
       "  0.00040207575148087926,\n",
       "  0.002197345002059592,\n",
       "  0.01225781374523649,\n",
       "  0.05464139774994692,\n",
       "  0.2840050907507248,\n",
       "  1.6209440465027,\n",
       "  9.040177505750762],\n",
       " [8.397993951803073e-06,\n",
       "  1.1830255971290171e-05,\n",
       "  1.7687503714114428e-05,\n",
       "  2.6618748961482197e-05,\n",
       "  3.87027466786094e-05,\n",
       "  5.0127746362704784e-05,\n",
       "  5.678875095327385e-05,\n",
       "  7.105824988684617e-05,\n",
       "  8.810850340523757e-05,\n",
       "  0.00010373050099587999],\n",
       " [9.29874659050256e-06,\n",
       "  1.7536745872348547e-05,\n",
       "  3.0254497687565163e-05,\n",
       "  5.389024590840563e-05,\n",
       "  6.980749822105281e-05,\n",
       "  9.120525282924064e-05,\n",
       "  0.0001061867515090853,\n",
       "  0.00014330725025502034,\n",
       "  0.00016566725389566272,\n",
       "  0.00020773074720636941]]"
      ]
     },
     "execution_count": 25,
     "metadata": {},
     "output_type": "execute_result"
    }
   ],
   "source": [
    "time_mat1"
   ]
  },
  {
   "cell_type": "code",
   "execution_count": 26,
   "metadata": {},
   "outputs": [
    {
     "data": {
      "text/plain": [
       "[[0.0004902140026388224,\n",
       "  0.011672111493680859,\n",
       "  0.04348420174937928,\n",
       "  0.17115923024903168,\n",
       "  0.3990977740031667],\n",
       " [0.0010679997540137265,\n",
       "  0.022282961999735562,\n",
       "  0.08711941975343507,\n",
       "  0.34216972650392563,\n",
       "  0.8077361032446788],\n",
       " [0.000756589746742975,\n",
       "  0.013080776494462043,\n",
       "  0.052919727997505106,\n",
       "  0.21048757599055534,\n",
       "  0.4900876582505589]]"
      ]
     },
     "execution_count": 26,
     "metadata": {},
     "output_type": "execute_result"
    }
   ],
   "source": [
    "time_mat2"
   ]
  }
 ],
 "metadata": {
  "kernelspec": {
   "display_name": "Python 3",
   "language": "python",
   "name": "python3"
  },
  "language_info": {
   "codemirror_mode": {
    "name": "ipython",
    "version": 3
   },
   "file_extension": ".py",
   "mimetype": "text/x-python",
   "name": "python",
   "nbconvert_exporter": "python",
   "pygments_lexer": "ipython3",
   "version": "3.7.6"
  }
 },
 "nbformat": 4,
 "nbformat_minor": 4
}
